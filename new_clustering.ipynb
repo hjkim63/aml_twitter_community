{
 "cells": [
  {
   "cell_type": "code",
   "execution_count": 124,
   "id": "e7b27b8f",
   "metadata": {},
   "outputs": [],
   "source": [
    "import snscrape.modules.twitter as sntwitter\n",
    "import pandas as pd\n",
    "import os\n",
    "import re\n",
    "from sklearn.feature_extraction.text import CountVectorizer\n",
    "from sklearn.cluster import KMeans\n",
    "from sklearn.decomposition import PCA\n",
    "from sklearn.decomposition import TruncatedSVD\n",
    "import matplotlib.pyplot as plt"
   ]
  },
  {
   "cell_type": "code",
   "execution_count": 107,
   "id": "b1163a6b",
   "metadata": {},
   "outputs": [
    {
     "name": "stdout",
     "output_type": "stream",
     "text": [
      "./data/scraped_tweets_#capitolriots_10000_new\n",
      "9995\n"
     ]
    }
   ],
   "source": [
    "#Get vocabulary & counts for hashtag appearances\n",
    "#hashtag_counts: a dictionary with key: a hashtag, value: count of that hashtag in the file\n",
    "\n",
    "my_dir = './data'\n",
    "for item in os.listdir(my_dir):\n",
    "    filepath = os.path.join(my_dir, item)\n",
    "    if os.path.isfile(filepath) and 'new' in filepath:\n",
    "        print(filepath)\n",
    "        df = pd.read_csv(os.path.join(my_dir, item))\n",
    "        df['Hashtags'] = df['Text'].apply(lambda x: re.findall(r\"#(\\w+)\", x))\n",
    "        \n",
    "        #ignore case of hashtags\n",
    "        df['Hashtags_lower']=df['Hashtags'].apply(lambda x: [y.lower() for y in x])\n",
    "        \n",
    "        #Remove tweets that do not contain #capitolriots\n",
    "        to_drop=[]\n",
    "        for i,row in df.iterrows():\n",
    "            if 'capitolriots' not in row['Hashtags_lower']:\n",
    "                to_drop.append(i)\n",
    "        df.drop(to_drop, axis=0, inplace=True)\n",
    "        \n",
    "        #ignore duplicate hashtags\n",
    "        df['Hashtags_lower_uniques']=df['Hashtags_lower'].apply(lambda x: list(set(x)))\n",
    "        \n",
    "        tweet_hashtags = chain.from_iterable(df['Hashtags_lower_uniques'].tolist())\n",
    "\n",
    "print(len(df.index))"
   ]
  },
  {
   "cell_type": "code",
   "execution_count": 108,
   "id": "ec1e1a6a",
   "metadata": {},
   "outputs": [],
   "source": [
    "# #Create vocabulary of hashtags\n",
    "\n",
    "# hashtags=set()\n",
    "# for i,row in df.iterrows():\n",
    "#     hashtags.update(set(row['Hashtags_lower_uniques']))\n",
    "# print(len(hashtags))"
   ]
  },
  {
   "cell_type": "code",
   "execution_count": 109,
   "id": "6a2c28c2",
   "metadata": {},
   "outputs": [
    {
     "name": "stdout",
     "output_type": "stream",
     "text": [
      "624\n"
     ]
    }
   ],
   "source": [
    "#Create bag of words\n",
    "\n",
    "bow_converter = CountVectorizer(tokenizer=lambda doc: doc, binary=True, min_df=5, lowercase=False)\n",
    "bow = bow_converter.fit_transform(df['Hashtags_lower_uniques'])\n",
    "\n",
    "vocabulary = bow_converter.get_feature_names()\n",
    "print(len(vocabulary))"
   ]
  },
  {
   "cell_type": "code",
   "execution_count": 110,
   "id": "d83d79c6",
   "metadata": {},
   "outputs": [
    {
     "name": "stdout",
     "output_type": "stream",
     "text": [
      "2.8042021010505254\n"
     ]
    }
   ],
   "source": [
    "#Average number of hashtags in each tweet\n",
    "print(bow.nnz/bow.shape[0])"
   ]
  },
  {
   "cell_type": "code",
   "execution_count": 111,
   "id": "2b4e2969",
   "metadata": {},
   "outputs": [],
   "source": [
    "#K-Means Clustering\n",
    "\n",
    "true_k = 10\n",
    "kmeans = KMeans(n_clusters=true_k, init='k-means++', max_iter=100, n_init=1)\n",
    "predictions = kmeans.fit_predict(bow)"
   ]
  },
  {
   "cell_type": "code",
   "execution_count": 112,
   "id": "8006e5f4",
   "metadata": {},
   "outputs": [
    {
     "name": "stdout",
     "output_type": "stream",
     "text": [
      "[264, 52, 332, 876, 7482, 377, 192, 6, 167, 247]\n"
     ]
    }
   ],
   "source": [
    "#Number of tweets in each cluster\n",
    "cluster_counts=[0 for _ in range(true_k)]\n",
    "for asn in predictions:\n",
    "    cluster_counts[asn]+=1\n",
    "print(cluster_counts)"
   ]
  },
  {
   "cell_type": "code",
   "execution_count": 132,
   "id": "d085ea81",
   "metadata": {},
   "outputs": [],
   "source": [
    "#Reduce bag of words to 2 dimensions\n",
    "svd = TruncatedSVD(n_components=2, n_iter=10)\n",
    "bow_svd=svd.fit_transform(bow)"
   ]
  },
  {
   "cell_type": "code",
   "execution_count": null,
   "id": "1cca1684",
   "metadata": {},
   "outputs": [],
   "source": [
    "#Run k-means on the lower-dimension bow\n",
    "\n",
    "k_svd=2\n",
    "kmeans_svd = KMeans(n_clusters=k_svd)\n",
    "predictions_svd = kmeans_svd.fit_predict(bow_svd)\n",
    "\n",
    "plt.scatter(bow_svd[:, 0], bow_svd[:, 1], c=predictions_svd, s=50, cmap='plasma')\n",
    "\n",
    "centers = kmeans_svd.cluster_centers_\n",
    "plt.scatter(centers[:, 0], centers[:, 1], c='k', marker='^', s=100)"
   ]
  }
 ],
 "metadata": {
  "kernelspec": {
   "display_name": "Python 3",
   "language": "python",
   "name": "python3"
  },
  "language_info": {
   "codemirror_mode": {
    "name": "ipython",
    "version": 3
   },
   "file_extension": ".py",
   "mimetype": "text/x-python",
   "name": "python",
   "nbconvert_exporter": "python",
   "pygments_lexer": "ipython3",
   "version": "3.8.8"
  }
 },
 "nbformat": 4,
 "nbformat_minor": 5
}
