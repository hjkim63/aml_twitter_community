{
 "cells": [
  {
   "cell_type": "code",
   "execution_count": 66,
   "id": "e7b27b8f",
   "metadata": {},
   "outputs": [],
   "source": [
    "import snscrape.modules.twitter as sntwitter\n",
    "import pandas as pd\n",
    "import os\n",
    "import re\n",
    "from sklearn.feature_extraction.text import CountVectorizer\n",
    "from sklearn.cluster import KMeans\n",
    "from sklearn.decomposition import PCA\n",
    "from sklearn.pipeline import Pipeline\n",
    "import matplotlib.pyplot as plt"
   ]
  },
  {
   "cell_type": "code",
   "execution_count": 60,
   "id": "b1163a6b",
   "metadata": {},
   "outputs": [
    {
     "name": "stdout",
     "output_type": "stream",
     "text": [
      "./data/scraped_tweets_#capitolriots_10000_new\n",
      "9995\n"
     ]
    }
   ],
   "source": [
    "#Get vocabulary & counts for hashtag appearances\n",
    "#hashtag_counts: a dictionary with key: a hashtag, value: count of that hashtag in the file\n",
    "\n",
    "my_dir = './data'\n",
    "for item in os.listdir(my_dir):\n",
    "    filepath = os.path.join(my_dir, item)\n",
    "    if os.path.isfile(filepath) and 'new' in filepath:\n",
    "        print(filepath)\n",
    "        df = pd.read_csv(os.path.join(my_dir, item))\n",
    "        df['Hashtags'] = df['Text'].apply(lambda x: re.findall(r\"#(\\w+)\", x))\n",
    "        \n",
    "        #ignore case of hashtags\n",
    "        df['Hashtags_lower']=df['Hashtags'].apply(lambda x: [y.lower() for y in x])\n",
    "        \n",
    "        #Remove tweets that do not contain #capitolriots\n",
    "        to_drop=[]\n",
    "        for i,row in df.iterrows():\n",
    "            if 'capitolriots' not in row['Hashtags_lower']:\n",
    "                to_drop.append(i)\n",
    "        df.drop(to_drop, axis=0, inplace=True)\n",
    "        \n",
    "        #ignore duplicate hashtags\n",
    "        df['Hashtags_lower_uniques']=df['Hashtags_lower'].apply(lambda x: list(set(x)))\n",
    "        \n",
    "        tweet_hashtags = chain.from_iterable(df['Hashtags_lower_uniques'].tolist())\n",
    "\n",
    "print(len(df.index))"
   ]
  },
  {
   "cell_type": "code",
   "execution_count": 61,
   "id": "de9d6e5b",
   "metadata": {},
   "outputs": [
    {
     "name": "stdout",
     "output_type": "stream",
     "text": [
      "4905\n"
     ]
    }
   ],
   "source": [
    "# #Create vocabulary of hashtags\n",
    "\n",
    "# hashtags=set()\n",
    "# for i,row in df.iterrows():\n",
    "#     hashtags.update(set(row['Hashtags_lower_uniques']))\n",
    "# print(len(hashtags))"
   ]
  },
  {
   "cell_type": "code",
   "execution_count": 72,
   "id": "6a2c28c2",
   "metadata": {},
   "outputs": [
    {
     "name": "stdout",
     "output_type": "stream",
     "text": [
      "624\n"
     ]
    }
   ],
   "source": [
    "#Create bag of words\n",
    "\n",
    "bow_converter = CountVectorizer(tokenizer=lambda doc: doc, binary=True, min_df=5, lowercase=False)\n",
    "bow = bow_converter.fit_transform(df['Hashtags_lower_uniques'])\n",
    "\n",
    "vocabulary = bow_converter.get_feature_names()\n",
    "print(len(vocabulary))"
   ]
  },
  {
   "cell_type": "code",
   "execution_count": 86,
   "id": "0ec33713",
   "metadata": {},
   "outputs": [
    {
     "name": "stdout",
     "output_type": "stream",
     "text": [
      "2.8042021010505254\n"
     ]
    }
   ],
   "source": [
    "#Average number of hashtags in each tweet\n",
    "print(bow.nnz/bow.shape[0])"
   ]
  },
  {
   "cell_type": "code",
   "execution_count": 67,
   "id": "2b4e2969",
   "metadata": {},
   "outputs": [
    {
     "data": {
      "text/plain": [
       "KMeans(max_iter=100, n_clusters=2, n_init=1)"
      ]
     },
     "execution_count": 67,
     "metadata": {},
     "output_type": "execute_result"
    }
   ],
   "source": [
    "#K-Means Clustering\n",
    "\n",
    "true_k = 2\n",
    "model = KMeans(n_clusters=true_k, init='k-means++', max_iter=100, n_init=1)\n",
    "model.fit(bow)"
   ]
  },
  {
   "cell_type": "code",
   "execution_count": null,
   "id": "4fd2be5e",
   "metadata": {},
   "outputs": [],
   "source": []
  }
 ],
 "metadata": {
  "kernelspec": {
   "display_name": "Python 3",
   "language": "python",
   "name": "python3"
  },
  "language_info": {
   "codemirror_mode": {
    "name": "ipython",
    "version": 3
   },
   "file_extension": ".py",
   "mimetype": "text/x-python",
   "name": "python",
   "nbconvert_exporter": "python",
   "pygments_lexer": "ipython3",
   "version": "3.8.8"
  }
 },
 "nbformat": 4,
 "nbformat_minor": 5
}
