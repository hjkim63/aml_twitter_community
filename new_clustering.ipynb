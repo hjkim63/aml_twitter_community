{
 "cells": [
  {
   "cell_type": "code",
   "execution_count": 59,
   "id": "e7b27b8f",
   "metadata": {},
   "outputs": [],
   "source": [
    "import snscrape.modules.twitter as sntwitter\n",
    "import pandas as pd\n",
    "import os\n",
    "import re\n",
    "from sklearn.feature_extraction.text import CountVectorizer"
   ]
  },
  {
   "cell_type": "code",
   "execution_count": 60,
   "id": "b1163a6b",
   "metadata": {},
   "outputs": [
    {
     "name": "stdout",
     "output_type": "stream",
     "text": [
      "./data/scraped_tweets_#capitolriots_10000_new\n",
      "9995\n"
     ]
    }
   ],
   "source": [
    "#Get vocabulary & counts for hashtag appearances\n",
    "#hashtag_counts: a dictionary with key: a hashtag, value: count of that hashtag in the file\n",
    "\n",
    "my_dir = './data'\n",
    "for item in os.listdir(my_dir):\n",
    "    filepath = os.path.join(my_dir, item)\n",
    "    if os.path.isfile(filepath) and 'new' in filepath:\n",
    "        print(filepath)\n",
    "        df = pd.read_csv(os.path.join(my_dir, item))\n",
    "        df['Hashtags'] = df['Text'].apply(lambda x: re.findall(r\"#(\\w+)\", x))\n",
    "        \n",
    "        #ignore case of hashtags\n",
    "        df['Hashtags_lower']=df['Hashtags'].apply(lambda x: [y.lower() for y in x])\n",
    "        \n",
    "        #Remove tweets that do not contain #capitolriots\n",
    "        to_drop=[]\n",
    "        for i,row in df.iterrows():\n",
    "            if 'capitolriots' not in row['Hashtags_lower']:\n",
    "                to_drop.append(i)\n",
    "        df.drop(to_drop, axis=0, inplace=True)\n",
    "        \n",
    "        #ignore duplicate hashtags\n",
    "        df['Hashtags_lower_uniques']=df['Hashtags_lower'].apply(lambda x: list(set(x)))\n",
    "        \n",
    "        tweet_hashtags = chain.from_iterable(df['Hashtags_lower_uniques'].tolist())\n",
    "\n",
    "print(len(df.index))"
   ]
  },
  {
   "cell_type": "code",
   "execution_count": 61,
   "id": "2e62aaf0",
   "metadata": {},
   "outputs": [
    {
     "name": "stdout",
     "output_type": "stream",
     "text": [
      "4905\n"
     ]
    }
   ],
   "source": [
    "# #Create vocabulary of hashtags\n",
    "\n",
    "# hashtags=set()\n",
    "# for i,row in df.iterrows():\n",
    "#     hashtags.update(set(row['Hashtags_lower_uniques']))\n",
    "# print(len(hashtags))"
   ]
  },
  {
   "cell_type": "code",
   "execution_count": 64,
   "id": "6a2c28c2",
   "metadata": {},
   "outputs": [
    {
     "name": "stdout",
     "output_type": "stream",
     "text": [
      "4905\n"
     ]
    }
   ],
   "source": [
    "#Create bag of words\n",
    "\n",
    "bow_converter = CountVectorizer(tokenizer=lambda doc: doc, binary=True, lowercase=False)\n",
    "bow = bow_converter.fit_transform(df['Hashtags_lower_uniques'])\n",
    "\n",
    "vocabulary = bow_converter.get_feature_names()\n",
    "print(len(vocabulary))"
   ]
  },
  {
   "cell_type": "code",
   "execution_count": null,
   "id": "2b4e2969",
   "metadata": {},
   "outputs": [],
   "source": []
  },
  {
   "cell_type": "code",
   "execution_count": null,
   "id": "787cbb86",
   "metadata": {},
   "outputs": [],
   "source": []
  }
 ],
 "metadata": {
  "kernelspec": {
   "display_name": "Python 3",
   "language": "python",
   "name": "python3"
  },
  "language_info": {
   "codemirror_mode": {
    "name": "ipython",
    "version": 3
   },
   "file_extension": ".py",
   "mimetype": "text/x-python",
   "name": "python",
   "nbconvert_exporter": "python",
   "pygments_lexer": "ipython3",
   "version": "3.8.8"
  }
 },
 "nbformat": 4,
 "nbformat_minor": 5
}
