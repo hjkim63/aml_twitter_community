{
 "cells": [
  {
   "cell_type": "code",
   "execution_count": 66,
   "id": "e7b27b8f",
   "metadata": {},
   "outputs": [],
   "source": [
    "import snscrape.modules.twitter as sntwitter\n",
    "import pandas as pd\n",
    "import os\n",
    "import re\n",
    "from sklearn.feature_extraction.text import CountVectorizer\n",
    "from sklearn.cluster import KMeans\n",
    "from sklearn.decomposition import PCA\n",
    "from sklearn.pipeline import Pipeline\n",
    "import matplotlib.pyplot as plt"
   ]
  },
  {
   "cell_type": "code",
   "execution_count": 60,
   "id": "b1163a6b",
   "metadata": {},
   "outputs": [
    {
     "name": "stdout",
     "output_type": "stream",
     "text": [
      "./data/scraped_tweets_#capitolriots_10000_new\n",
      "9995\n"
     ]
    }
   ],
   "source": [
    "#Get vocabulary & counts for hashtag appearances\n",
    "#hashtag_counts: a dictionary with key: a hashtag, value: count of that hashtag in the file\n",
    "\n",
    "my_dir = './data'\n",
    "for item in os.listdir(my_dir):\n",
    "    filepath = os.path.join(my_dir, item)\n",
    "    if os.path.isfile(filepath) and 'new' in filepath:\n",
    "        print(filepath)\n",
    "        df = pd.read_csv(os.path.join(my_dir, item))\n",
    "        df['Hashtags'] = df['Text'].apply(lambda x: re.findall(r\"#(\\w+)\", x))\n",
    "        \n",
    "        #ignore case of hashtags\n",
    "        df['Hashtags_lower']=df['Hashtags'].apply(lambda x: [y.lower() for y in x])\n",
    "        \n",
    "        #Remove tweets that do not contain #capitolriots\n",
    "        to_drop=[]\n",
    "        for i,row in df.iterrows():\n",
    "            if 'capitolriots' not in row['Hashtags_lower']:\n",
    "                to_drop.append(i)\n",
    "        df.drop(to_drop, axis=0, inplace=True)\n",
    "        \n",
    "        #ignore duplicate hashtags\n",
    "        df['Hashtags_lower_uniques']=df['Hashtags_lower'].apply(lambda x: list(set(x)))\n",
    "        \n",
    "        tweet_hashtags = chain.from_iterable(df['Hashtags_lower_uniques'].tolist())\n",
    "\n",
    "print(len(df.index))"
   ]
  },
  {
   "cell_type": "code",
   "execution_count": 61,
   "id": "73c2ec9d",
   "metadata": {},
   "outputs": [
    {
     "name": "stdout",
     "output_type": "stream",
     "text": [
      "4905\n"
     ]
    }
   ],
   "source": [
    "# #Create vocabulary of hashtags\n",
    "\n",
    "# hashtags=set()\n",
    "# for i,row in df.iterrows():\n",
    "#     hashtags.update(set(row['Hashtags_lower_uniques']))\n",
    "# print(len(hashtags))"
   ]
  },
  {
   "cell_type": "code",
   "execution_count": 72,
   "id": "6a2c28c2",
   "metadata": {},
   "outputs": [
    {
     "name": "stdout",
     "output_type": "stream",
     "text": [
      "624\n"
     ]
    }
   ],
   "source": [
    "#Create bag of words\n",
    "\n",
    "bow_converter = CountVectorizer(tokenizer=lambda doc: doc, binary=True, min_df=5, lowercase=False)\n",
    "bow = bow_converter.fit_transform(df['Hashtags_lower_uniques'])\n",
    "\n",
    "vocabulary = bow_converter.get_feature_names()\n",
    "print(len(vocabulary))"
   ]
  },
  {
   "cell_type": "code",
   "execution_count": 86,
   "id": "fcc6b1d5",
   "metadata": {},
   "outputs": [
    {
     "name": "stdout",
     "output_type": "stream",
     "text": [
      "2.8042021010505254\n"
     ]
    }
   ],
   "source": [
    "#Average number of hashtags in each tweet\n",
    "print(bow.nnz/bow.shape[0])"
   ]
  },
  {
   "cell_type": "code",
   "execution_count": 100,
   "id": "2b4e2969",
   "metadata": {},
   "outputs": [],
   "source": [
    "#K-Means Clustering\n",
    "\n",
    "true_k = 10\n",
    "model = KMeans(n_clusters=true_k, init='k-means++', max_iter=100, n_init=1)\n",
    "predictions = model.fit_predict(bow)"
   ]
  },
  {
   "cell_type": "code",
   "execution_count": 101,
   "id": "b8b6e577",
   "metadata": {},
   "outputs": [
    {
     "name": "stdout",
     "output_type": "stream",
     "text": [
      "[56, 257, 126, 293, 597, 7403, 42, 212, 880, 129]\n"
     ]
    }
   ],
   "source": [
    "#Number of tweets in each cluster\n",
    "cluster_counts=[0 for _ in range(true_k)]\n",
    "for asn in predictions:\n",
    "    cluster_counts[asn]+=1\n",
    "print(cluster_counts)"
   ]
  },
  {
   "cell_type": "code",
   "execution_count": null,
   "id": "205f0fd9",
   "metadata": {},
   "outputs": [],
   "source": []
  }
 ],
 "metadata": {
  "kernelspec": {
   "display_name": "Python 3",
   "language": "python",
   "name": "python3"
  },
  "language_info": {
   "codemirror_mode": {
    "name": "ipython",
    "version": 3
   },
   "file_extension": ".py",
   "mimetype": "text/x-python",
   "name": "python",
   "nbconvert_exporter": "python",
   "pygments_lexer": "ipython3",
   "version": "3.8.8"
  }
 },
 "nbformat": 4,
 "nbformat_minor": 5
}
