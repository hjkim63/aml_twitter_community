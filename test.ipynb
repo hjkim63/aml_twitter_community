{
 "metadata": {
  "language_info": {
   "codemirror_mode": {
    "name": "ipython",
    "version": 3
   },
   "file_extension": ".py",
   "mimetype": "text/x-python",
   "name": "python",
   "nbconvert_exporter": "python",
   "pygments_lexer": "ipython3",
   "version": "3.8.8-final"
  },
  "orig_nbformat": 2,
  "kernelspec": {
   "name": "python3",
   "display_name": "Python 3.8.8 64-bit ('anaconda3': virtualenv)",
   "metadata": {
    "interpreter": {
     "hash": "312eb8564849aa63c8e561931f9d150d1fb07e4066d2bd4dea13c432acb89601"
    }
   }
  }
 },
 "nbformat": 4,
 "nbformat_minor": 2,
 "cells": [
  {
   "cell_type": "code",
   "execution_count": 46,
   "metadata": {},
   "outputs": [],
   "source": [
    "import snscrape.modules.twitter as sntwitter\n",
    "import pandas as pd\n",
    "from sklearn.feature_extraction.text import CountVectorizer\n",
    "import nltk\n",
    "from nltk.corpus import stopwords  \n",
    "import re"
   ]
  },
  {
   "cell_type": "code",
   "execution_count": 139,
   "metadata": {},
   "outputs": [],
   "source": [
    "tweets_list1 = []\n",
    "\n",
    "for i,tweet in enumerate(sntwitter.TwitterSearchScraper('CapitolRiots since:2021-01-05 until:2021-01-07').get_items()): #declare a username \n",
    "    if i>10: #number of tweets you want to scrape\n",
    "        break\n",
    "    tweets_list1.append([tweet.date, tweet.id, tweet.content, tweet.user.username]) #declare the attributes to be returned\n",
    "    \n",
    "# Creating a dataframe from the tweets list above \n",
    "tweets_df2 = pd.DataFrame(tweets_list1, columns=['Datetime', 'Tweet Id', 'Text', 'Username'])\n",
    "\n",
    "def hashtag_extract(text):\n",
    "    l = []\n",
    "    mark_hash = 0\n",
    "    # for t in text:\n",
    "    #     print('t = ',t)\n",
    "    tag = ''\n",
    "    for i in range(len(text)):\n",
    "        print('t[i] = ',text[i])\n",
    "        if text[i] == '#': \n",
    "            if tag != '': # if hashtag is right next to a previous hashtag\n",
    "                print('Im here_1!')\n",
    "                l.append(tag)\n",
    "                print('l = ',l)\n",
    "                tag = ''\n",
    "                mark_hash = 0\n",
    "            else: #if hashtag not next to a previous hashtag\n",
    "                print('Im here_2!')\n",
    "                mark_hash = 1\n",
    "        elif mark_hash == 1 and (text[i]!=' ') and i != (len(text)-1) and text[i] != \"\\n\": #if inside a hashtag and you're not at the end of the text or the end of a line\n",
    "            tag += text[i]\n",
    "            print('Im here_3!')\n",
    "            print('tag = ', tag)\n",
    "        elif mark_hash == 1 and (text[i] ==' ' or text[i] == \"\\n\"): #if inside a hashtag and you're an empty space or the end of a line\n",
    "            print('Im here_4!')\n",
    "            l.append(tag)\n",
    "            #print('l = ',l)\n",
    "            tag = ''\n",
    "            mark_hash = 0\n",
    "        elif mark_hash == 1 and (i == (len(text) - 1)): #if inside a hashtag and you're not at the end of the text\n",
    "            tag += text[i]\n",
    "            l.append(tag)\n",
    "            tag = ''\n",
    "            mark_hash = 0\n",
    "        else:\n",
    "            tag = ''\n",
    "    return l"
   ]
  },
  {
   "cell_type": "code",
   "execution_count": 10,
   "metadata": {},
   "outputs": [
    {
     "output_type": "execute_result",
     "data": {
      "text/plain": [
       "                    Datetime             Tweet Id  \\\n",
       "0  2021-01-06 23:59:53+00:00  1346969770243940352   \n",
       "1  2021-01-06 23:59:31+00:00  1346969679470813184   \n",
       "2  2021-01-06 23:58:52+00:00  1346969514680922113   \n",
       "3  2021-01-06 23:58:46+00:00  1346969487736770563   \n",
       "4  2021-01-06 23:58:42+00:00  1346969473933332485   \n",
       "5  2021-01-06 23:58:25+00:00  1346969403234127873   \n",
       "6  2021-01-06 23:58:25+00:00  1346969402286157831   \n",
       "7  2021-01-06 23:58:11+00:00  1346969343242985474   \n",
       "8  2021-01-06 23:57:47+00:00  1346969242013470720   \n",
       "9  2021-01-06 23:57:26+00:00  1346969155002515456   \n",
       "10 2021-01-06 23:57:02+00:00  1346969053357752326   \n",
       "\n",
       "                                                 Text         Username  \n",
       "0   Dear generation Y &amp; Z,\\n\\nStop playing #Fo...   ZouhairSaddiki  \n",
       "1   25th Amendment. Now.\\n#CapitolHill #CapitolRio...        InSituMag  \n",
       "2   Aye @CapitolPolice did you at least pinch the ...       MikeGrands  \n",
       "3   @tedcruz so @tedcruz will you be resicinding y...     oldwomansage  \n",
       "4   \"We had better plan now for an involuntary ext...       PamMHarris  \n",
       "5   If people can enter the #Capitol so easily, so...   Suresh_Gopalan  \n",
       "6   Let’s call it for what it was today: terrorism...       SeanWasson  \n",
       "7   Did the riots today remind anyone else of the ...      kriskline23  \n",
       "8   #whiteprivilege #WhereIsTheLie #Amerika #Remov...        QueenG719  \n",
       "9   #CapitolRiots #RacialJustice #BLM https://t.co...  givingyouthebi1  \n",
       "10  This is the darkest day in U.S. history since ...    iris4wildlife  "
      ],
      "text/html": "<div>\n<style scoped>\n    .dataframe tbody tr th:only-of-type {\n        vertical-align: middle;\n    }\n\n    .dataframe tbody tr th {\n        vertical-align: top;\n    }\n\n    .dataframe thead th {\n        text-align: right;\n    }\n</style>\n<table border=\"1\" class=\"dataframe\">\n  <thead>\n    <tr style=\"text-align: right;\">\n      <th></th>\n      <th>Datetime</th>\n      <th>Tweet Id</th>\n      <th>Text</th>\n      <th>Username</th>\n    </tr>\n  </thead>\n  <tbody>\n    <tr>\n      <th>0</th>\n      <td>2021-01-06 23:59:53+00:00</td>\n      <td>1346969770243940352</td>\n      <td>Dear generation Y &amp;amp; Z,\\n\\nStop playing #Fo...</td>\n      <td>ZouhairSaddiki</td>\n    </tr>\n    <tr>\n      <th>1</th>\n      <td>2021-01-06 23:59:31+00:00</td>\n      <td>1346969679470813184</td>\n      <td>25th Amendment. Now.\\n#CapitolHill #CapitolRio...</td>\n      <td>InSituMag</td>\n    </tr>\n    <tr>\n      <th>2</th>\n      <td>2021-01-06 23:58:52+00:00</td>\n      <td>1346969514680922113</td>\n      <td>Aye @CapitolPolice did you at least pinch the ...</td>\n      <td>MikeGrands</td>\n    </tr>\n    <tr>\n      <th>3</th>\n      <td>2021-01-06 23:58:46+00:00</td>\n      <td>1346969487736770563</td>\n      <td>@tedcruz so @tedcruz will you be resicinding y...</td>\n      <td>oldwomansage</td>\n    </tr>\n    <tr>\n      <th>4</th>\n      <td>2021-01-06 23:58:42+00:00</td>\n      <td>1346969473933332485</td>\n      <td>\"We had better plan now for an involuntary ext...</td>\n      <td>PamMHarris</td>\n    </tr>\n    <tr>\n      <th>5</th>\n      <td>2021-01-06 23:58:25+00:00</td>\n      <td>1346969403234127873</td>\n      <td>If people can enter the #Capitol so easily, so...</td>\n      <td>Suresh_Gopalan</td>\n    </tr>\n    <tr>\n      <th>6</th>\n      <td>2021-01-06 23:58:25+00:00</td>\n      <td>1346969402286157831</td>\n      <td>Let’s call it for what it was today: terrorism...</td>\n      <td>SeanWasson</td>\n    </tr>\n    <tr>\n      <th>7</th>\n      <td>2021-01-06 23:58:11+00:00</td>\n      <td>1346969343242985474</td>\n      <td>Did the riots today remind anyone else of the ...</td>\n      <td>kriskline23</td>\n    </tr>\n    <tr>\n      <th>8</th>\n      <td>2021-01-06 23:57:47+00:00</td>\n      <td>1346969242013470720</td>\n      <td>#whiteprivilege #WhereIsTheLie #Amerika #Remov...</td>\n      <td>QueenG719</td>\n    </tr>\n    <tr>\n      <th>9</th>\n      <td>2021-01-06 23:57:26+00:00</td>\n      <td>1346969155002515456</td>\n      <td>#CapitolRiots #RacialJustice #BLM https://t.co...</td>\n      <td>givingyouthebi1</td>\n    </tr>\n    <tr>\n      <th>10</th>\n      <td>2021-01-06 23:57:02+00:00</td>\n      <td>1346969053357752326</td>\n      <td>This is the darkest day in U.S. history since ...</td>\n      <td>iris4wildlife</td>\n    </tr>\n  </tbody>\n</table>\n</div>"
     },
     "metadata": {},
     "execution_count": 10
    }
   ],
   "source": [
    "tweets_df2"
   ]
  },
  {
   "cell_type": "code",
   "execution_count": 148,
   "metadata": {},
   "outputs": [
    {
     "output_type": "stream",
     "name": "stdout",
     "text": [
      "You have blood on your hands. #25thAmendmentNow https://t.co/Vtt477MhgQ\nt[i] =  Y\nt[i] =  o\nt[i] =  u\nt[i] =   \nt[i] =  h\nt[i] =  a\nt[i] =  v\nt[i] =  e\nt[i] =   \nt[i] =  b\nt[i] =  l\nt[i] =  o\nt[i] =  o\nt[i] =  d\nt[i] =   \nt[i] =  o\nt[i] =  n\nt[i] =   \nt[i] =  y\nt[i] =  o\nt[i] =  u\nt[i] =  r\nt[i] =   \nt[i] =  h\nt[i] =  a\nt[i] =  n\nt[i] =  d\nt[i] =  s\nt[i] =  .\nt[i] =   \nt[i] =  #\nIm here_2!\nt[i] =  2\nIm here_3!\ntag =  2\nt[i] =  5\nIm here_3!\ntag =  25\nt[i] =  t\nIm here_3!\ntag =  25t\nt[i] =  h\nIm here_3!\ntag =  25th\nt[i] =  A\nIm here_3!\ntag =  25thA\nt[i] =  m\nIm here_3!\ntag =  25thAm\nt[i] =  e\nIm here_3!\ntag =  25thAme\nt[i] =  n\nIm here_3!\ntag =  25thAmen\nt[i] =  d\nIm here_3!\ntag =  25thAmend\nt[i] =  m\nIm here_3!\ntag =  25thAmendm\nt[i] =  e\nIm here_3!\ntag =  25thAmendme\nt[i] =  n\nIm here_3!\ntag =  25thAmendmen\nt[i] =  t\nIm here_3!\ntag =  25thAmendment\nt[i] =  N\nIm here_3!\ntag =  25thAmendmentN\nt[i] =  o\nIm here_3!\ntag =  25thAmendmentNo\nt[i] =  w\nIm here_3!\ntag =  25thAmendmentNow\nt[i] =   \nIm here_4!\nt[i] =  h\nt[i] =  t\nt[i] =  t\nt[i] =  p\nt[i] =  s\nt[i] =  :\nt[i] =  /\nt[i] =  /\nt[i] =  t\nt[i] =  .\nt[i] =  c\nt[i] =  o\nt[i] =  /\nt[i] =  V\nt[i] =  t\nt[i] =  t\nt[i] =  4\nt[i] =  7\nt[i] =  7\nt[i] =  M\nt[i] =  h\nt[i] =  g\nt[i] =  Q\n['25thAmendmentNow']\n"
     ]
    }
   ],
   "source": [
    "df = pd.read_csv('/Users/Harish/Desktop/AML_project/scraped_tweets_#25thamendmentnow_10000')\n",
    "save = df['Text']\n",
    "save2 = save[15]\n",
    "print(save2)\n",
    "print(hashtag_extract(save2))"
   ]
  },
  {
   "cell_type": "code",
   "execution_count": 47,
   "metadata": {},
   "outputs": [
    {
     "output_type": "stream",
     "name": "stderr",
     "text": [
      "[nltk_data] Downloading package stopwords to\n[nltk_data]     /Users/Harish/nltk_data...\n[nltk_data]   Package stopwords is already up-to-date!\n"
     ]
    }
   ],
   "source": [
    "nltk.download('stopwords')  \n",
    "def clean_text(text, remove_stopwords = True):\n",
    "    text = text.lower()\n",
    "    text = re.sub(r'https?:\\/\\/.*[\\r\\n]*', '', text, flags=re.MULTILINE)\n",
    "    text = re.sub(\"@[A-Za-z0-9_]+\",\"\", text)\n",
    "    text = re.sub(\"#[A-Za-z0-9_]+\",\"\", text)\n",
    "    if remove_stopwords:\n",
    "        text = text.split()\n",
    "        stops = set(stopwords.words(\"english\"))\n",
    "        text = [w for w in text if not w in stops]\n",
    "        text = \" \".join(text)\n",
    "    text =  nltk.WordPunctTokenizer().tokenize(text)\n",
    "    return text"
   ]
  },
  {
   "cell_type": "code",
   "execution_count": 48,
   "metadata": {
    "tags": []
   },
   "outputs": [
    {
     "output_type": "stream",
     "name": "stdout",
     "text": [
      "5001\n"
     ]
    }
   ],
   "source": [
    "ans = list(map(clean_text, df['Text']))\n",
    "print(len(ans))"
   ]
  },
  {
   "cell_type": "code",
   "execution_count": 49,
   "metadata": {
    "tags": [
     "outputPrepend"
    ]
   },
   "outputs": [
    {
     "output_type": "stream",
     "name": "stdout",
     "text": [
      "chaos', 'within', '.', 'national', 'security', 'risk', 'trump', 'give', 'damm', '!!'], [], [], [], ['trump', 'legacy', 'left', '.', 'remembered', 'bad', 'light', '.', 'talk', 'lost', 'opportunity', '.', 'he', \"'\", 's', 'maniac', 'unfit', 'office', '.', 'remove', 'send', 'clearest', 'message', 'people', '.', 'want', 'mob', 'mentality', 'constituent', '.', 'trust', 'me', '.'], [], [], ['absolute', 'least', 'could', 'do', '.', 'destroying', 'fucking', 'democracy', '.', 'wrong', 'facists', '?'], ['wow', 'piece', 'shit', '.', 'fault'], [], [], ['invoke', '?'], ['rt', ':', '.', 'need', 'removed', 'office', 'immediately', '.', 'cc', ':', ','], ['terrorist', 'grand', '-', 'stander', ',', 'lead', '🦇💩🤪🤡', 'fake', 'president', 'conflates', 'reality', '-', 'tv', 'actual', 'reality', 'furthers', 'spread', 'false', 'information', 'conspiracy', 'theory', '.', 'arrest', 'all', '.', 'remove', 'power', '.'], [], [], ['organized', 'march', 'capitol'], ['woman', 'died', ',', 'blood', 'hand', 'president', 'trump', '-', '!!!'], [], ['patriot', ',', 'trump', 'trash', 'rioter', '!', 'get', 'office', 'get', 'rioter', 'dc', '.', 'police', 'national', 'guard', 'playing', 'nice', '?', 'different', 'vibe', 'blm', 'protest', '!'], ['must', 'invoke', '25th', 'ammendment', 'now', '!!!!'], [], ['accurate', 'statement', 'describe', 'event', 'today', '.'], [], [], [], ['hope', 'safe', 'evening', '.', 'look', 'forward', 'watching', 'proceeding', 'certify', 'electoral', 'college', ',', 'remove', 'president', 'office'], ['trump', 'incited', 'group', 'coup', 'country', '.', 'time', 'call', 'coup', 'u', 'congress', 'u', 'constitution', 'is', '...', 'treason', '!'], ['yah', ',', 'think', 'little', 'late', 'now', '???!!', '😡', '!!!!!', '🤬'], ['mike', 'penny', 'instigate', '25th', 'amendment', '.', 'republican', 'party', 'nothing', '.', 'bring', 'back', 'respect', 'party', 'this', '.', 'highly', 'respected', 'everywhere', '.'], [], ['🇺🇸'], ['need', 'removed', '.'], ['fucking', 'something', '!', 'stop', 'putting', 'asshole', 'well', '-', 'being', 'country', '!'], ['get', 'trump', 'now', '!'], ['.'], [], [], [], ['huge', 'part', 'making', 'happen', 'past', '4', 'plus', 'year', '....', 'own', 'it', ',', 'know', 'damn', 'well', 'trump', 'lost', '.', 'young', 'girl', 'dead', ',', 'bomb', 'found', '.', 'stop', 'trump', 'already', '.', 'fucking', 'lost', '!'], [], ['please', 'call', 'senator', 'demand', '.', 'did', '.'], ['hawley', 'cruz', 'prosecuted', 'pushed', 'today', 'came', 'fruition', '.', ',', 'time', 'act', '.'], [], ['charged', 'co', '-', 'conspirator', '.', 'stoked', 'this', '.', 'encouraged', 'this', '.', 'insurrection', '.', 'responsible', 'capital', 'police', 'injured', '.'], ['trump', 'responsible', 'must', 'immediately', 'arrested', ',', 'impeached', 'prosecuted'], ['hope', 'so', '.'], ['traitor', 'country', ':', 'benedict', 'arnold'], ['\"', 'the', 'suspected', 'bomb', 'outside', 'rnc', 'found', 'next', 'trash', 'container', ',', 'metal', 'pipe', 'metal', 'end', 'cap', ',', 'wire', 'running', 'inside', 'pipe', 'plastic', 'kitchen', 'timer', '.\"', 'trump', 'mentally', 'ill', '.', 'believe', 'now', '?'], ['remove', '.', 'him', '.', 'now', '.'], ['god', '.', 'minute', 'ago', '.', 'madman', '.', 'world', 'need', 'u', 'something', 'now', '.'], [], ['please', '!', '!', 'president', 'clear', 'immediate', 'danger', 'democracy', 'likely', 'himself', '!', 'america', 'need', 'leader', 'step', 'up', '!'], ['donald', 'trump', 'see', 'term', 'office', '.'], [], ['could', 'stopped', 'much', 'happening', 'found', 'trump', 'guilty', '.', 'let', 'happen', '!', 'resign', 'thankyouverymuch', '!'], ['remember', '??', 'where', \"'\", 's', 'law', 'order', '??', 'belong', 'jail', '.'], [], ['please', 'impeach', 'tonight', '.', 'stop', 'him', '.', 'tie', 'tongue', '.', 'ban', 'twitter', '.', 'u', 'senate', 'need', 'act', '.', 'impeach', 'remove', 'office', '.', 'world', 'watching', '.', '13', 'arrest', 'made', '?', 'kidding', 'me', '?'], [], ['this', '.', 'trying', 'get', 'killed', '.'], [], ['woman', 'shot', 'capitol', 'died', '!!!!!', 'lock', 'typhoid', 'trump', 'prison', '=', 'negligent', 'homicide', '!', '!', 'psychiatric', 'hold', ':', '\"', 'danger', 'self', 'others', '!\"', 'reached', 'typhoid', 'trump', '!'], ['thank', 'you', '!', 'know', 'madman', '2', 'week', '!', 'whatever', 'get', 'faster', '!'], ['remove', 'asap'], [], ['are', ':', 'rest', 'sedition', 'caucus', '!', 'remove', 'immediately', '!!'], [], ['two', 'week', '.', 'get', 'worse', ',', 'come', 'stronger', 'nation', '.'], [], ['vega', 'odds', 'cabinet', 'invoking', '?'], ['america', ':', 'make', 'mistake', ',', 'seen', 'today', 'pre', 'planned', 'based', 'wild', 'tweet', '.', 'way', 'capitol', 'hill', 'police', 'allowing', 'rioter', 'enter', 'building', '.', 'unfortunately', 'woman', 'shot', 'died', '.'], ['true', '?', 'game', 'order', 'invite', 'protestors', 'come', 'capitol', 'building', '?'], ['now', '!'], ['citizen', 'united', 'state', 'america', 'formally', 'call', 'immediate', 'resignation', '...........', 'donald', 'j', 'trump', '1', '-', '06', '-', '2021', 'please', 'copy', 'paste', 'retweet'], [], [], ['fucking', 'coward', '.', 'block', 'comment', '.'], ['he', \"'\", 'd', 'bomb', 'iran', 'way', 'out', '.'], [], ['run', 'jail', 'space', ',', 'lock', 'donnie', \"'\", 's', 'hotel', '.', 'way', 'walk', 'visit', 'express', '*', 'peace', '*', 'heeding', 'worst', 'wish', '.', '(', 'read', 'it', '!)'], ['trump', 'told', 'storm', 'capitol', ',', 'did', '.', 'trump', 'told', 'go', 'home', ',', 'many', 'leaving', '.', 'trump', 'need', 'removed', 'office', 'minute', '.'], ['hope', 'follow', 'through', ',', 'now', '!'], [], ['fucking', 'guy'], [], ['25th', '!!'], [], ['inciting', 'violence', '....'], [], ['national', 'guard', 'told', '\"', 'no', '\"', 'trump', '.', 'dc', 'state', ',', 'governor', '.', 'ng', 'fall', 'federal', '.', 'said', ',', '\"', 'no', '\"'], [], [], [], ['nothing', 'le', 'acceptable', '.'], ['trump', 'responsible', 'must', 'immediately', 'arrested', ',', 'impeached', 'prosecuted'], ['woman', 'died', 'donald', 'trump', 'today', '.', 'told', 'fight', 'him', '.', 'let', 'sink', 'in', '.'], ['impeach', '!!'], ['keep', 'trending', ',', 'everyone', '.', 'rt', 'rt'], ['reminder', ',', 'foment', 'fascism', ',', 'end', '.', 'please', 'end', 'american', 'tragedy', 'republican', 'trump', 'party', '!'], [], ['know', 'do', '.', 'man', 'need', 'stand', 'tyrant', '.', 'turned', 'country', '.', 'make', 'thing', 'right', '.'], ['make', 'dc', 'gd', 'state', 'already', '.'], [], ['25th', 'amendment', 'would', 'faster', '.', 'penny', '&', 'amp', ';', 'cabinet', 'agree', '45', 'nut', '45', 'get', 'heave', '-', 'ho', 'asap', 'impeachment', 'slow'], [], ['save', 'legacy', '.', 'hero', '.', 'remove'], ['time', '25th', 'amendment', '.'], [], ['must', 'invoke', '25th', 'amendment', '.'], [], [], [], ['action', 'responsible', 'insurrection', '.', '!!', 'resign'], ['today', ',', 'showed', 'entire', 'world', 'thug', 'walk', 'u', '.', 's', '.', 'capital', 'incite', 'violence', '.', 'traitor', 'need', 'removed', 'office', 'today', '.'], ['must', 'today', ',', 'impeachment', 'arrest', 'tomorrow', '.', 'literal', 'madman', ',', 'insane', ',', 'wannabe', 'dictator', 'trying', 'overturn', 'legitimate', 'election', 'stay', 'power', '.'], [], ['trump', 'traitor', ',', 'tried', 'overthrow', 'democracy', '.', 'remove', 'trump', 'immediately', '!'], [], ['moment', 'permanently', 'distance', 'trump', 'reaffirm', 'democracy', \"'\", 's', 'place', 'america', '.'], [], ['silence'], [], [], [], ['single', 'american', 'act', 'right', 'would', 'removing', 'man', 'office', '.'], [], [], ['trump', 'twitter', 'suspend', 'twitter', 'account', '...', 'he', 'encouraging', 'violence', '&', 'amp', ';', 'sedition', '.'], ['.', 'please', '.', '25th', 'amendment', 'constitution', 'reason', '.', 'inciting', 'violent', 'overthrow', 'government', 'enough', 'gather', 'what', \"'\", 's', 'left', 'cabinet', '.', 'past', 'time', '!'], ['sen', '.', 'mitt', 'romney', ':', '\"', 'what', 'happened', 'today', 'insurrection', ',', 'incited', 'president', '\".'], ['lawmaker', 'it', '??'], ['member', 'gay', 'community', ',', 'promise', 'help', 'hide', 'grindr', 'profile', 'invoke', 'gay', 'willing', 'allow', 'mike', 'penny', 're', '-', 'enter', 'anon', 'grindr', 'agrees', '?'], ['still', 'think', 'learned', 'lesson', '?!', 'enabled', 'him', '.', 'remembered', 'history', 'this', '.'], ['absolutely', '!', 'either', 'invoke', '!'], [], ['day', 'over', ',', 'work', 'do', '.'], [], [], [], [], ['woman', 'shot', 'capitol', 'died', '!!!!!', 'lock', 'typhoid', 'trump', 'prison', '=', 'negligent', 'homicide', '!', '!', 'psychiatric', 'hold', ':', '\"', 'danger', 'self', 'others', '!\"', 'reached', 'typhoid', 'trump', '!'], ['officer', 'need', 'fired', 'arrested', 'aiding', 'abetting', '!', '#'], ['remember', 'used', 'rubber', 'bullet', '?', 'remember', 'used', 'teargas', '?', 'remember', 'used', 'baton', '?', 'remember', 'used', 'mace', '?'], ['little', 'late', ',', 'one', 'woman', 'dead', 'already', 'gsw', 'chest', '.', 'bigger', 'issue', 'maniac', 'still', 'president', '14', 'day', '.', 'work', 'invoke', 'trump', 'threat', 'national', 'security', '.'], [], ['need', 'certify', 'stop', 'madness', 'now', '!'], ['vp', 'mike', 'penny', 'ordered', 'national', 'guard', 'capital', '.', 'president', 'incited', 'it', '.', 'president', 'senate', 'need', 'certify', 'biden', '/', 'harris', '&', 'amp', ';', 'invoke', 'protect', 'democratic', 'republic', 'next', '14', 'day', '.', 'another', 'hour', ',', 'day', ',', 'death', ',', 'bomb', 'threat'], [], ['infuriating', '!'], [], [], ['crumb', 'decency', 'pick', 'country', 'party', '.', 'stop', 'this', '.', 'country', 'need', 'leader', '(', 'even', 'it', '’', 's', 'you', ')'], ['yeah', ',', 'called', 'first', '.'], ['right', 'thing', 'life', '...'], ['let', '’', 's', 'go', 'cop', '👮\\u200d♀️!!!!', 'it', '’', 's', '27', 'minute', 'past', 'curfew', '!!!', 'pretend', 'different', 'color', 'help', 'racist', 'ass', '.'], ['mr', 'rogers', 'said', '\"', 'look', 'helper', '\"', 'called', 'leader', 'country', 'helping', ',', 'he', \"'\", 's', 'one', 'started', 'this', ',', 'created', 'chaos', ',', 'mayhem', '.', 'who', \"'\", 's', 'helping', 'u', '?'], [], [], ['need', 'removed', 'office', 'immediately', '.', '!!!!!!'], ['governmebt', 'nearly', 'died', 'today', 'trump', 'incited', 'violence'], [], ['start', 'yourself', '.', 'enabled', 'him', '.', 'blood', 'hand', '.'], ['trump', 'responsible', 'must', 'immediately', 'arrested', ',', 'impeached', 'prosecuted'], [], [], ['republican', 'dog', 'leash'], [], ['please', 'ensure', 'never', 'hold', 'office', 'again', '.'], ['lock', 'up', '.'], ['threw', 'bus', ',', ';', 'future', 'aspiration', 'even', 'badly', 'damaged', '.', 'must', 'remove', 'office', 'burn', 'house', 'down', '.'], ['wanna', 'know', 'know', 'you', '’', 're', 'stupid', '?'], ['must', 'immediate', 'invoked', '.', 'unfathomable', 'think', 'moment', 'could', 'pas', 'without', 'swift', 'action', '.'], ['imagine', 'that', ',', 'trump', 'lied', 'too', '.'], [], [], ['call', 'senator', 'now', '!'], ['even', '25th', 'amendment', 'now', '?', 'well', 'danger', 'democracy', 'national', 'security'], [], ['kim', 'jong', '-', 'un', 'rhetoric', 'right', 'here', '.'], ['brought', 'shame', 'america', '.', 'remove', 'now', '.'], ['please', '!', 'president', 'clear', 'immediate', 'danger', 'democracy', 'likely', 'himself', '!', 'america', 'need', 'leader', 'step', 'up', '!'], [], [], [], ['life', 'stake', '.'], ['destroying', 'country', '🇺🇸⚖️'], ['shameful', 'day', 'shameful', 'man', '!', '14', 'day', 'till', 'last', 'walk', 'shame'], ['arrest'], ['come', 'mike', '!'], [], ['save', 'yourself', '.'], ['better', 'demand', ':', 'impeach', 'tyrant', 'immediately', '!', 'senate', 'sense', 'way', 'democracy', 'work', ',', 'immediately', 'remove', 'tyrant', '!', 'drag', 'tyrant', 'prison', '.', 'immediately', '!'], ['vile', 'monster'], ['remember', 'this', '?', '25th', 'amendment'], [], ['yes', ',', 'u', '.', 's', '.', 'trade', 'group', 'asks', 'vp', 'penny', \"'\", 'seriously', 'consider', \"'\", 'invoking', '25th', 'amendment', 'remove', 'trump'], ['mr', '.', 'penny', 'sworn', 'duty', '.', 'save', 'american', 'mad', 'man', 'inciting', 'riot', 'capital', '.', 'hero', 'american', '.', '🙏🏼'], [], [], ['woman', 'shot', 'capitol', 'died', '!!!!!', 'lock', 'typhoid', 'trump', 'prison', '=', 'negligent', 'homicide', '!', '!', 'psychiatric', 'hold', ':', '\"', 'danger', 'self', 'others', '!\"', 'reached', 'typhoid', 'trump', '!'], [], ['1', ')', 'there', '’', 's', 'something', 'wrong', '.', '2', ')', 'jan', '20', 'long', 'wait', '.', '3', ')', 'he', '’', 's', 'gotta', 'go', '!'], [], ['rebellion', 'insurrection', 'whoever', 'incites', 'rebellion', 'authority', 'united', 'state', 'law', 'thereof', 'shall', 'imprisoned', 'ten', 'year', 'shall', 'incapable', 'holding', 'office', 'united', 'state', '.'], [], ['!!!', '🤬'], ['president', 'united', 'state', 'national', 'security', 'threat', 'united', 'state', 'america', '.', 'must', 'removed', 'office', 'now', '.'], ['he', \"'\", 's', 'dangerous', 'remain', 'president', '.', 'impeachment', 'take', 'longer', 'have', ';'], ['2', 'week', ',', 'let', '’', 's', 'go', '.', 'we', '’', 've', 'traitor', 'house', 'long', 'enough', '.'], ['never', 'stop', 'inciting', 'violence', '.', 'never', 'stop', 'lying', '.', 'never', 'stop', 'narcissist', 'sociopath', '.', 'never', 'stop', 'trying', 'destroy', 'united', 'state', '.'], ['would', 'quite', 'welcome', '.', 'wishing', 'world', 'peace', '.', 'choosing', 'self', '-', 'care', 'now', ',', 'see', 'tomorrow', '.', '✨', '🛌'], [], ['🇺🇸'], [], [], [], ['trump', 'responsible', 'must', 'immediately', 'arrested', ',', 'impeached', 'prosecuted'], ['fuck', 'trump', '.', 'fuck', 'fed', 'fuel', 'follow', 'order', '.', 'fuck', 'enabled', 'monster', 'wh', '.'], ['yes', ',', 'thank', 'telling', 'like', 'is', '.'], ['trump', 'deleted', 'tweet', 'there', '’', 's', 'escaping', 'statement', 'today', '’', 's', 'event', '.'], ['gone', 'long', 'enough'], ['need', '25th', 'amendment', 'acted', 'now', '.', 'country', 'can', '’', 't', 'take', '14', 'day', 'this', '.'], ['best', 'believe', 'black', 'people', ',', 'half', 'would', 'dead', 'now', '!!'], [], [], [], ['uh', ',', 'know', 'trump', 'didn', '’', 't', 'want', 'reinforcement', '.'], ['guy', 'removed', 'office', 'asap', 'save', 'integrity', 'democracy', '.'], ['🤔', 'billion', '$', 'military', 'budget', '-', 'yet', 'can', \"'\", 't', 'defend', '?'], ['-', 'right', 'thing', 'care', 'country', '.'], [], ['trump', 'tweet', '25', 'min', 'ago', 'promote', 'twitter', 'flagged', '&', 'gt', ';'], ['holy', 'cow', '!'], ['take', 'action', '.'], [], ['please', '.', 'chance', 'remembered', 'patriot', '.', 'please', '.'], ['unless', 'he', \"'\", 's', 'removed', ',', 'stop', '.'], ['bill', 'trump', 'personally', 'damage', 'leaf', 'removed', 'office', 'arrest', 'instigating', 'riot', '.'], [], ['hope', 'true', '!!!'], ['hey', 'mike', ',', 'hoosier', 'here', '.', 'he', \"'\", 's', 'made', 'look', 'good', 'now', '.', 'know', 'he', \"'\", 's', 'gonna', 'get', 'worse', '.', 'go', 'ahead', 'pull', 'trigger', '25th', 'amendment', '.'], ['trump', 'predicted', 'america', 'would', 'burn', 'biden', 'elected', '.', 'tell', 'u', 'would', 'one', 'it', '.', 'sake', 'democracy', 'use'], ['no', ',', '.', 'tonight', '.'], [], ['pense', 'evoke', 'least', 'block', 'crazy', 'inciting', 'violence', 'online', '?'], ['please', 'speaker', ',', 'please', ',', 'get', 'penny', 'this', '.', 'remind', 'trump', 'put', 'life', 'danger', 'today', '--', 'not', 'mention', 'threw', 'bus', '&', 'amp', ';', 'never', 'able', 'trump', \"'\", 's', 'cult', 'help', 'penny', 'future', 'ambition', '.', 'cannot', 'afford', '2', 'wks', 'danger', 'dt', '.'], ['way', 'redeem'], ['woman', 'died', 'today', 'capitol', '.', 'unnecessarily', '.', 'many', 'casualty', 'chaos', '?', '14', 'day', 'long', '.'], ['‼️', '25th', 'amendment', '💥', 'because', 'finger', 'still', 'button', '💥'], ['joe', 'biden', 'might', 'end', '47th', 'president', '.'], [], ['get', 'trending', '.', 'adult', 'need', 'take', 'charge'], [], ['.', 'home', 'grown', 'domestic', 'terrorist', 'supporter', 'maga', '=', 'domestic', 'terrorist', '!!', 'remove', 'now', '!'], ['absolutely', '!'], ['dark', 'day', 'american', 'history', 'can', \"'\", 't', 'handle', 'reality', '.'], [], ['must', 'removed', 'trump', 'threat', 'security', 'must', 'removed', 'stop'], [], ['impeach', 'orange', ',', 'lying', ',', 'rapist', ',', 'racist', 'traitor', ',', '🖕', 'right', 'effing', 'now', ',', 'invoke', '25th', 'amendment', '.', 'traitor', 'must', 'disabled', 'now', '!'], ['woman', 'shot', 'capitol', 'died', '!!!!!', 'lock', 'typhoid', 'trump', 'prison', '=', 'negligent', 'homicide', '!', '!', 'psychiatric', 'hold', ':', '\"', 'danger', 'self', 'others', '!\"', 'reached', 'typhoid', 'trump', '!'], [], ['imagine', 'body', 'count', 'blm', 'protest', 'tried', 'storm', 'capital', '.', 'trump', 'danger', 'u', 'all', '.'], [], [], ['today', 'inevitable', 'conclusion', 'year', 'incitement', 'particularly', 'call', 'today', 'follower', 'storm', 'capital', '.', 'cannot', 'remain', 'power', '.', 'danger', 'country', 'american', '.'], ['fine', 'idea', ',', 'take', 'long', '!'], [], ['25th'], [], [], ['capable', 'job', '.', 'got', 'lose', '?', ',', 'everything', '.'], [], [], [], [], ['legacy', 'cabinet', 'member', 'marked', 'forever', 'inaction', '.'], [',', ',', '.', 'pop', 'sure', 'fuc', 'ked', 'future', 'today', '.', 'good', 'night', '!'], ['know'], ['get', 'trending'], ['trump', 'accessory', 'murder', '.', 'woman', 'shot', 'capitol', 'died', '.'], [], ['well', 'past', 'time', 'dump', 'po'], [], [], ['!', 'president', 'clear', 'immediate', 'danger', 'democracy', 'likely', 'himself', '!', 'america', 'need', 'leader', 'step', 'up', '!'], ['hope', 'that', '’', 's', 'hill', 'want', 'die', 'on', ',', 'cuz', 'everyone', 'belief', 'it', '’', 's', 'past', 'time', 'invokes'], [], [], ['invoke'], ['invoke', '25th', 'amendment', 'immediately', '.', 'trump', 'unhinged', 'know', 'it', '.'], ['doesn', '’', 't', 'need', '.', 'fine', ',', 'too', '.'], [], ['someone', 'killed', 'u', 'capitol', 'trump', '!!!'], ['call', 'senator', 'now', '.', 'did', '.'], ['president', 'gave', 'word', 'encouragement', 'including', '“', 'i', 'love', 'you', '”', 'perpetrator', '911', ',', 'i', '’', 'm', 'sure', 'would', 'least', 'considered', '.', 'fit', 'remain', 'president', 'another', 'minute', '.'], [], ['absolutely', 'correct', '!'], ['please', 'promote', 'and', '/', 'or'], ['good', 'enough', '.', 'stood', 'behind', 'trump', 'every', 'step', 'way', '.', 'embraced', 'conspiracy', 'theory', '.', 'fanned', 'flame', '.', 'need', 'call'], ['need', 'removed', 'office', 'immediately', '.', '!!!!!!'], [], ['blood', 'woman', 'shot', 'y', \"'\", 'all', 'hand'], ['trump', 'instigated', 'this', '!', 'need', 'removed', '.', 'american', 'can', '’', 't', 'even', 'sleep', 'night', '.'], ['keep', 'safe', 'illinois', 'need', 'protecting', 'democracy', '.', '⌛️', '14', 'day', 'sanity', '~', '~~', 'truth', '.', '!🗳️🌊🍑', 'help', '.', 'him', '.', 'resign', '.', '⚖️'], [], [], ['dude', '.', 'respect', '.', 'stfu'], [], ['so', ',', '’', 's', 'wife', 'let', 'invoke', '?'], [], ['sitting', 'thinking', 'continues', 'make', 'fool', 'trump', 'family', 'name', '—', 'y', '’', 'all', 'even', 'imagine', 'pissed', 'right', 'now', '?'], [], ['trump', 'ill', '.', 'need', 'removing', 'immediately', '.', '.'], ['terrorist', '❗️'], [], [], [], ['won', \"'\", 't', '.', 'sooner', 'accept', 'better', 'able', 'deal', 'him', '..'], ['absolutely', '.', 'trump', 'need', 'go', 'ever', '.'], ['good', 'man', ',', 'adam', '!', 'use', 'voice', '.', 'far', 'over', '...', 'we', 'need', 'senator', 'representative', 'voice', '!', 'need', 'protect', 'democracy', 'constitution', '!'], [], ['finish', 'process', '!', 'invoke'], ['insurrection', 'incited', 'president', '.', 'unacceptable', '.'], [], [], [], [], [], [], ['gone', 'long', '.'], ['penny', 'need', 'use', 'get', 'maniac', 'office', '.']]\n"
     ]
    }
   ],
   "source": [
    "def lemmatized_words(text):\n",
    "    lemm = nltk.stem.WordNetLemmatizer()\n",
    "    res = list(map(lambda word:\n",
    "                                     list(map(lemm.lemmatize, word)),\n",
    "                                     text))\n",
    "    return res\n",
    "ans2 = lemmatized_words(ans)\n",
    "print(ans2)"
   ]
  },
  {
   "cell_type": "code",
   "execution_count": 51,
   "metadata": {},
   "outputs": [
    {
     "output_type": "stream",
     "name": "stdout",
     "text": [
      "['!', '!!', '!!!', '!!!!', '\"', '&', \"'\", '(', ')', ',', '-', '.', '..', '...', '....', '/', '1', '14', '2', '25th', '4', ':', ';', '?', 'absolutely', 'account', 'act', 'action', 'again', 'all', 'allowed', 'already', 'amendment', 'america', 'american', 'ammendment', 'amp', 'another', 'anyone', 'arrest', 'arrested', 'attack', 'attempt', 'believe', 'better', 'biden', 'blood', 'building', 'cabinet', 'call', 'called', 'can', 'cannot', 'capital', 'capitol', 'care', 'charge', 'clear', 'close', 'come', 'congress', 'constitution', 'continue', 'control', 'could', 'country', 'coup', 'd', 'damage', 'danger', 'dangerous', 'day', 'dc', 'dead', 'democracy', 'died', 'domestic', 'don', 'donald', 'done', 'duty', 'either', 'election', 'else', 'enact', 'encouraged', 'end', 'enemy', 'enough', 'even', 'ever', 'everyone', 'finally', 'fuck', 'fucking', 'get', 'go', 'going', 'good', 'gop', 'government', 'guard', 'hand', 'happen', 'he', 'help', 'him', 'himself', 'history', 'hold', 'hope', 'house', 'i', 'immediate', 'immediately', 'impeach', 'impeached', 'impeachment', 'incited', 'inciting', 'insane', 'insurrection', 'invoke', 'invoking', 'is', 'it', 'job', 'killed', 'know', 'last', 'law', 'leader', 'left', 'let', 'lie', 'life', 'like', 'long', 'look', 'lost', 'love', 'm', 'maga', 'make', 'man', 'many', 'may', 'member', 'mentally', 'mike', 'mind', 'mob', 'moment', 'much', 'must', 'nation', 'national', 'need', 'never', 'next', 'not', 'nothing', 'now', 'office', 'one', 'out', 'party', 'past', 'penny', 'people', 'please', 'police', 'power', 'president', 'prosecuted', 'protest', 'put', 're', 'really', 'remember', 'remove', 'removed', 'republican', 'resign', 'responsible', 'right', 'riot', 'rioter', 's', 'safe', 'said', 'save', 'say', 'security', 'sedition', 'see', 'senate', 'senator', 'shot', 'so', 'something', 'source', 'stand', 'start', 'state', 'stay', 'step', 'still', 'stop', 'support', 'supporter', 't', 'take', 'taken', 'tell', 'terrorism', 'terrorist', 'thank', 'that', 'them', 'there', 'they', 'thing', 'think', 'this', 'threat', 'time', 'today', 'told', 'tomorrow', 'tonight', 'traitor', 'treason', 'trump', 'tweet', 'twitter', 'two', 'u', 'unfit', 'united', 'up', 'usa', 'use', 've', 'violence', 'vote', 'vp', 'wait', 'want', 'watching', 'way', 'we', 'week', 'well', 'what', 'white', 'woman', 'world', 'worse', 'would', 'year', 'yes', 'you', '’', '“', '”']\n"
     ]
    }
   ],
   "source": [
    "bow_converter = CountVectorizer(tokenizer=lambda doc: doc, binary = True, min_df = 20, lowercase=False)\n",
    "x = bow_converter.fit_transform(ans2)\n",
    "words = bow_converter.get_feature_names()\n",
    "print(words)"
   ]
  }
 ]
}